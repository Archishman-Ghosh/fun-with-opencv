{
 "cells": [
  {
   "cell_type": "markdown",
   "metadata": {},
   "source": [
    "# Creating Own Image using Python OpenCV Library\n",
    "\n",
    "## by Archishman Ghosh"
   ]
  },
  {
   "cell_type": "code",
   "execution_count": 11,
   "metadata": {},
   "outputs": [],
   "source": [
    "import numpy as np\n",
    "import cv2\n",
    "import time"
   ]
  },
  {
   "cell_type": "markdown",
   "metadata": {},
   "source": [
    "### Creating a Blank Canvas"
   ]
  },
  {
   "cell_type": "code",
   "execution_count": 12,
   "metadata": {},
   "outputs": [],
   "source": [
    "canvas = np.zeros((500,800,3))"
   ]
  },
  {
   "cell_type": "markdown",
   "metadata": {},
   "source": [
    "### Creating the Art-Work"
   ]
  },
  {
   "cell_type": "code",
   "execution_count": 13,
   "metadata": {},
   "outputs": [],
   "source": [
    "def frame():\n",
    "    cv2.rectangle(canvas, (50,50),(750,450),(25, 258, 0),10)\n",
    "\n",
    "def figure1():\n",
    "    cv2.circle(canvas, (200,150),50,(0, 0, 255),-1)\n",
    "    #body\n",
    "    cv2.line(canvas, (200, 150), (200, 320), (0, 0, 255), 10)\n",
    "    #hands\n",
    "    cv2.line(canvas, (200, 250), (260, 200), (0, 0, 255), 10)\n",
    "    cv2.line(canvas, (200, 250), (140, 200), (0, 0, 255), 10)\n",
    "    #legs\n",
    "    cv2.line(canvas, (200, 320), (240, 420), (0, 0, 255), 10)\n",
    "    cv2.line(canvas, (200, 320), (160, 420), (0, 0, 255), 10)\n",
    "\n",
    "def figure2():\n",
    "    cv2.circle(canvas, (400,250),40,(0,255,0),-1)\n",
    "    #body\n",
    "    cv2.line(canvas, (400, 250), (400, 380), (0,255,0), 10)\n",
    "    #hands\n",
    "    cv2.line(canvas, (400, 340), (440, 300), (0,255,0), 10)\n",
    "    cv2.line(canvas, (400, 340), (360, 300), (0,255,0), 10)\n",
    "    #legs\n",
    "    cv2.line(canvas, (400, 380), (420, 420), (0,255,0), 10)\n",
    "    cv2.line(canvas, (400, 380), (380, 420), (0,255,0), 10)\n",
    "\n",
    "def figure3():\n",
    "    cv2.circle(canvas, (600,150),50,(0,255,255),-1)\n",
    "    #body\n",
    "    cv2.line(canvas, (600, 150), (600, 320), (0,255,255), 10)\n",
    "    #hands\n",
    "    cv2.line(canvas, (600, 250), (660, 200), (0,255,255), 10)\n",
    "    cv2.line(canvas, (600, 250), (540, 200), (0,255,255), 10)\n",
    "    #legs\n",
    "    cv2.line(canvas, (600, 320), (640, 420), (0,255,255), 10)\n",
    "    cv2.line(canvas, (600, 320), (560, 420), (0,255,255), 10)\n",
    "\n",
    "def caption():\n",
    "    font = cv2.FONT_HERSHEY_SIMPLEX\n",
    "    cv2.putText(canvas,'Happy Family', (300, 100),font, 0.8, (255, 0, 0), 2, cv2.LINE_AA)"
   ]
  },
  {
   "cell_type": "markdown",
   "metadata": {},
   "source": [
    "### Driver Program"
   ]
  },
  {
   "cell_type": "code",
   "execution_count": 14,
   "metadata": {},
   "outputs": [
    {
     "data": {
      "text/plain": [
       "True"
      ]
     },
     "execution_count": 14,
     "metadata": {},
     "output_type": "execute_result"
    }
   ],
   "source": [
    "n = 5\n",
    "for i in range(n):\n",
    "    if i==0:\n",
    "        frame()\n",
    "        cv2.imshow(\"Archishman's Canvas\",canvas)\n",
    "        if cv2.waitKey(500) == 13:\n",
    "            cv2.destroyAllWindows()\n",
    "    elif i==1:\n",
    "        figure1()\n",
    "        cv2.imshow(\"Archishman's Canvas\",canvas)\n",
    "        if cv2.waitKey(500) == 13:\n",
    "            cv2.destroyAllWindows()\n",
    "    elif i==2:\n",
    "        figure2()\n",
    "        cv2.imshow(\"Archishman's Canvas\",canvas)\n",
    "        if cv2.waitKey(500) == 13:\n",
    "            cv2.destroyAllWindows()\n",
    "    elif i==3:\n",
    "        figure3()\n",
    "        cv2.imshow(\"Archishman's Canvas\",canvas)\n",
    "        if cv2.waitKey(500) == 13:\n",
    "            cv2.destroyAllWindows()\n",
    "    elif i==4:\n",
    "        caption()\n",
    "        cv2.imshow(\"Archishman's Canvas\",canvas)\n",
    "        if cv2.waitKey(500) == 13:\n",
    "            cv2.destroyAllWindows()\n",
    "\n",
    "time.sleep(1)\n",
    "cv2.destroyAllWindows()\n",
    "cv2.imwrite('MyArt.png',canvas)"
   ]
  }
 ],
 "metadata": {
  "kernelspec": {
   "display_name": "Python 3",
   "language": "python",
   "name": "python3"
  },
  "language_info": {
   "codemirror_mode": {
    "name": "ipython",
    "version": 3
   },
   "file_extension": ".py",
   "mimetype": "text/x-python",
   "name": "python",
   "nbconvert_exporter": "python",
   "pygments_lexer": "ipython3",
   "version": "3.8.3"
  }
 },
 "nbformat": 4,
 "nbformat_minor": 4
}
